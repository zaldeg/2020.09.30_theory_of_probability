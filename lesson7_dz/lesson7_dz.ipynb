{
 "metadata": {
  "language_info": {
   "codemirror_mode": {
    "name": "ipython",
    "version": 3
   },
   "file_extension": ".py",
   "mimetype": "text/x-python",
   "name": "python",
   "nbconvert_exporter": "python",
   "pygments_lexer": "ipython3",
   "version": "3.8.5-final"
  },
  "orig_nbformat": 2,
  "kernelspec": {
   "name": "Python 3.8.5 64-bit",
   "display_name": "Python 3.8.5 64-bit",
   "metadata": {
    "interpreter": {
     "hash": "f7c604d00f38437f4df57123c10451e0676060e1a3eca5c56f25a4495d595057"
    }
   }
  }
 },
 "nbformat": 4,
 "nbformat_minor": 2,
 "cells": [
  {
   "source": [
    "__Задача 1__\n",
    "\n",
    "Дана матрица объект-признак\n",
    "```\n",
    "X = [[ 1.22401313,  2.30868478,  3.03636353,  2.69287214],\n",
    "     [-0.18757272,  1.30337355,  5.12093014,  3.46363202],\n",
    "     [-0.81094525,  1.82463398,  5.79686488,  1.86159445],\n",
    "     [ 0.75129018,  2.67392052,  3.65529809,  1.66746094],\n",
    "     [ 0.00972362,  1.97367255,  2.50594319,  1.69755173],\n",
    "     [-0.62972637,  0.77750764,  2.84124027,  4.54410559],\n",
    "     [ 2.29536229,  1.81206697,  1.95026215,  1.51874636],\n",
    "     [ 0.0920418 ,  2.26971361,  7.47708735,  2.61081203],\n",
    "     [ 2.39252799,  3.17563985,  3.61420599,  5.10773362],\n",
    "     [ 0.54983815,  2.87988651,  1.65752765,  1.59635987]]\n",
    "```\n",
    "и значения целевой переменной\n",
    "```\n",
    "y = [ 9.26193358,  9.700363  ,  8.67214805,  8.74796974,  6.18689108,\n",
    "      7.53312713,  7.57643777, 12.44965478, 14.29010746,  6.68361218]\n",
    "```\n",
    "\n",
    "1. Подберите два признака (из четырёх) так, чтобы уровень линейной зависимости целевой переменной от значений этих признаков был максимальным. Другими словами, модель линейной регрессии на этих признаках должна давать наилучший результат.\n",
    "2. Является ли значимым получившееся уравнение регрессии?"
   ],
   "cell_type": "markdown",
   "metadata": {}
  },
  {
   "cell_type": "code",
   "execution_count": 16,
   "metadata": {},
   "outputs": [
    {
     "output_type": "stream",
     "name": "stdout",
     "text": [
      "Взяты столбцы 1,2\ndet 349.7782033818847\nНаша модель [6.70781579 0.40786841 1.03360247]\ne = 2.042810365310288e-15\nR = 0.18113594742585215\n\nВзяты столбцы 1,3\ndet 2835.3600226240965\nНаша модель [3.62455695 1.62531203 1.21134979]\ne = -2.575717417130363e-15\nR = 0.7634246238793152\n\nВзяты столбцы 1,4\ndet 1689.2124743606082\nНаша модель [5.70686123 0.68359949 1.12650707]\ne = 8.08242361927114e-15\nR = 0.4532966783144077\n\nВзяты столбцы 2,3\ndet 1427.8125776081495\nНаша модель [2.48896193 1.60611956 0.86269915]\ne = -2.2293278334473145e-14\nR = 0.547948273403901\n\nВзяты столбцы 2,4\ndet 701.732736445317\nНаша модель [1.91685221 1.74373667 1.31971882]\ne = 2.1582735598713044e-14\nR = 0.6062055761129932\n\nВзяты столбцы 3,4\ndet 4547.328074863321\nНаша модель [3.64001086 0.70753914 1.04851745]\ne = -1.3145040611561854e-14\nR = 0.622441987650532\n\n"
     ]
    }
   ],
   "source": [
    "import pandas as pd\n",
    "import numpy as np\n",
    "\n",
    "\n",
    "def sum_of_squares(samples: np.ndarray) -> float:\n",
    "    return ((samples - samples.mean()) ** 2).sum()\n",
    "\n",
    "x = np.array([[ 1.22401313,  2.30868478,  3.03636353,  2.69287214],\n",
    "     [-0.18757272,  1.30337355,  5.12093014,  3.46363202],\n",
    "     [-0.81094525,  1.82463398,  5.79686488,  1.86159445],\n",
    "     [ 0.75129018,  2.67392052,  3.65529809,  1.66746094],\n",
    "     [ 0.00972362,  1.97367255,  2.50594319,  1.69755173],\n",
    "     [-0.62972637,  0.77750764,  2.84124027,  4.54410559],\n",
    "     [ 2.29536229,  1.81206697,  1.95026215,  1.51874636],\n",
    "     [ 0.0920418 ,  2.26971361,  7.47708735,  2.61081203],\n",
    "     [ 2.39252799,  3.17563985,  3.61420599,  5.10773362],\n",
    "     [ 0.54983815,  2.87988651,  1.65752765,  1.59635987]])\n",
    "\n",
    "y =  np.array([ 9.26193358,  9.700363  ,  8.67214805,  8.74796974,  6.18689108,\n",
    "      7.53312713,  7.57643777, 12.44965478, 14.29010746,  6.68361218])\n",
    "\n",
    "ones = np.ones((x.shape[0], 1))\n",
    "\n",
    "for i in range(4):\n",
    "    for j in range(i + 1, 4):\n",
    "        print(f'Взяты столбцы {i+1},{j+1}')\n",
    "        xij = np.hstack((ones, np.atleast_2d(x[:,i]).T, np.atleast_2d(x[:,j]).T))\n",
    "        XTX = xij.T.dot(xij)\n",
    "        print(\"det\", np.linalg.det(XTX))\n",
    "        XTX_inv = np.linalg.inv(XTX)\n",
    "        b = XTX_inv.dot(xij.T).dot(y)\n",
    "        print('Наша модель',b)\n",
    "        z2 = xij.dot(b)\n",
    "        e = y - z2\n",
    "        print('e =', e.mean())\n",
    "        R = 1 - sum_of_squares(e) / sum_of_squares(y)\n",
    "        print(f'R = {R}')\n",
    "        print()\n",
    "\n"
   ]
  },
  {
   "source": [
    "В даном случае видно что лучший коэффициент детерминации R = 0.76342 когда мы берем первый и третий признаки. Детерминанты во всех случаях не близки к 0, так что вычисление всех обратных матриц происходит без проблем.\n",
    "в данном случае наша модель: $$y = 3.6245 - 1.6253 \\cdot x_1 + 1.2113 \\cdot x_2,$$"
   ],
   "cell_type": "markdown",
   "metadata": {}
  },
  {
   "source": [
    "За нулевую гипотезу принимаем то, что коэффициент детерминации равен 0."
   ],
   "cell_type": "markdown",
   "metadata": {}
  },
  {
   "cell_type": "code",
   "execution_count": 17,
   "metadata": {},
   "outputs": [
    {
     "output_type": "stream",
     "name": "stdout",
     "text": [
      "Критическая область: (4.73741412777588, +inf)\nСтитистика Фишера 5.770098595498478\n"
     ]
    }
   ],
   "source": [
    "from scipy import stats\n",
    "alpha = 0.05\n",
    "n = 10\n",
    "m = 2\n",
    "k1 = m\n",
    "k2 = n - m - 1\n",
    "t = stats.f.ppf(1-alpha, k1, k2)\n",
    "print(f\"Критическая область: ({t}, +inf)\")\n",
    "F = (R / k1) / ((1 - R) / k2)\n",
    "print(f\"Ститистика Фишера\", F)"
   ]
  },
  {
   "source": [
    "Значение статистики попало в критическую область, так что полученное уравнение регрессии полуается значимым."
   ],
   "cell_type": "markdown",
   "metadata": {}
  },
  {
   "source": [
    "__Задача 2__\n",
    "\n",
    "Для проведения A/B-тестирования сайта интернет-магазина были получены следующие данные: страница `A` была посещена 2509 раз, из них 77 закончились совершением покупки, страница `B` была посещена 1465 раз, 60 из них закончились совершением покупки. Является ли значимым отличие конверсии на страницах `A` и `B`?\n"
   ],
   "cell_type": "markdown",
   "metadata": {}
  },
  {
   "cell_type": "code",
   "execution_count": 18,
   "metadata": {},
   "outputs": [
    {
     "output_type": "stream",
     "name": "stdout",
     "text": [
      "0.03068951773614986 0.040955631399317405 0.03447408152994464\n"
     ]
    },
    {
     "output_type": "execute_result",
     "data": {
      "text/plain": [
       "(0.09748158004016791, 132.17956925035742)"
      ]
     },
     "metadata": {},
     "execution_count": 18
    }
   ],
   "source": [
    "n1 = 2509\n",
    "n2 = 1465\n",
    "k = 2\n",
    "k1 = k - 1\n",
    "k2 = n - k\n",
    "n = 2509 + 1465\n",
    "\n",
    "# 1 совершение покупки, 0 отсутствие покупки.\n",
    "y1_mean = 77 / n1\n",
    "y2_mean = 60 / n2\n",
    "y_mean = (77 + 60) / n\n",
    "print(y1_mean, y2_mean, y_mean)\n",
    "\n",
    "SS_b = n1 * (y1_mean - y_mean) ** 2 + n2 * (y2_mean - y_mean) ** 2\n",
    "SS_w = 77 * (1 - y1_mean) ** 2 + (n1 - 77) * (0 - y1_mean) ** 2 + 60 * (1 - y2_mean) ** 2  + (n2 - 60) * (0 - y2_mean) ** 2\n",
    "# y1 = 77*\"1\" + (2509 - 77) * \"0\"\n",
    "# y1 = np.array([int(i) for i in y1])\n",
    "# y2 = 60*\"1\" + (1465 - 60) * \"0\"\n",
    "# y2 = np.array([int(i) for i in y2])\n",
    "# SS_w = ((y1 - y1_mean) ** 2).sum() + ((y2 - y2_mean) ** 2).sum()\n",
    "\n",
    "SS_b, SS_w\n"
   ]
  },
  {
   "cell_type": "code",
   "execution_count": 19,
   "metadata": {},
   "outputs": [
    {
     "output_type": "execute_result",
     "data": {
      "text/plain": [
       "(0.09748158004016791, 16.522446156294677)"
      ]
     },
     "metadata": {},
     "execution_count": 19
    }
   ],
   "source": [
    "sigma2_b = SS_b / k1\n",
    "sigma2_w = SS_w / k2\n",
    "sigma2_b, sigma2_w"
   ]
  },
  {
   "cell_type": "code",
   "execution_count": 20,
   "metadata": {},
   "outputs": [
    {
     "output_type": "execute_result",
     "data": {
      "text/plain": [
       "0.005899948416719738"
      ]
     },
     "metadata": {},
     "execution_count": 20
    }
   ],
   "source": [
    "F = sigma2_b / sigma2_w\n",
    "F"
   ]
  },
  {
   "cell_type": "code",
   "execution_count": 21,
   "metadata": {},
   "outputs": [
    {
     "output_type": "stream",
     "name": "stdout",
     "text": [
      "Критическая область: (5.317655071578714, +inf)\n"
     ]
    }
   ],
   "source": [
    "alpha = 0.05\n",
    "t = stats.f.ppf(1 - alpha, k1, k2)\n",
    "print(f\"Критическая область: ({t}, +inf)\")\n"
   ]
  },
  {
   "source": [
    "Мы не попапли в нашу критическую областm, соответственно наша нулевая гипотеза, о том что средние по этим выборкам равны, верна.\n",
    "страницы одинаково продают с учетом нашего выбранного уровня значимости."
   ],
   "cell_type": "markdown",
   "metadata": {}
  },
  {
   "source": [
    "__Задача 3__\n",
    "\n",
    "__Квартет Энскомба__ — популярный в области анализа данных пример наборов данных, у которых практически совпадают все статистические свойства (средние, дисперсии, коэффициенты корреляции, регрессионные линии), однако, существенно отличаются графики. Данный пример призван показать, насколько важна визуализация данных. Датасет представляет собой 4 пары выборок:\n",
    "\n",
    "```\n",
    "{\n",
    "    \"x1\": [10.0, 8.0, 13.0, 9.0, 11.0, 14.0, 6.0, 4.0, 12.0, 7.0, 5.0],\n",
    "    \"y1\": [8.04, 6.95, 7.58, 8.81, 8.33, 9.96, 7.24, 4.26, 10.84, 4.82, 5.68],\n",
    "    \"x2\": [10.0, 8.0, 13.0, 9.0, 11.0, 14.0, 6.0, 4.0, 12.0, 7.0, 5.0],\n",
    "    \"y2\": [9.14, 8.14, 8.74, 8.77, 9.26, 8.1, 6.13, 3.1, 9.13, 7.26, 4.74],\n",
    "    \"x3\": [10.0, 8.0, 13.0, 9.0, 11.0, 14.0, 6.0, 4.0, 12.0, 7.0, 5.0],\n",
    "    \"y3\": [7.46, 6.77, 12.74, 7.11, 7.81, 8.84, 6.08, 5.39, 8.15, 6.42, 5.73],\n",
    "    \"x4\": [8.0, 8.0, 8.0, 8.0, 8.0, 8.0, 8.0, 19.0, 8.0, 8.0, 8.0],\n",
    "    \"y4\": [6.58, 5.76, 7.71, 8.84, 8.47, 7.04, 5.25, 12.5, 5.56, 7.91, 6.89]\n",
    "}\n",
    "```\n",
    "\n",
    "По каждой паре выборок посчитайте:\n",
    "\n",
    "1. выборочное среднее и дисперсию каждой выборки,\n",
    "2. коэффициент корреляции Пирсона и прямую линейной регрессии.\n",
    "\n",
    "Убедившись в том, что они не практически не отличаются, постройте `scatter plot` по каждой паре выборок."
   ],
   "cell_type": "markdown",
   "metadata": {}
  },
  {
   "cell_type": "code",
   "execution_count": 22,
   "metadata": {},
   "outputs": [
    {
     "output_type": "stream",
     "name": "stdout",
     "text": [
      "сет номер 1\n",
      "[10.  8. 13.  9. 11. 14.  6.  4. 12.  7.  5.]\n",
      "[ 8.04  6.95  7.58  8.81  8.33  9.96  7.24  4.26 10.84  4.82  5.68]\n",
      "выборочное среднее x:9.0, y: 7.500909090909093 \n",
      "выборочная дисперсия x:10.0, y: 3.7520628099173554 \n",
      "Кореляция Пирсона: 1.0 \n",
      "Прямая линейной регрессии: y = 3.0 + 0.5 * x\n",
      "\n",
      "сет номер 2\n",
      "[10.  8. 13.  9. 11. 14.  6.  4. 12.  7.  5.]\n",
      "[9.14 8.14 8.74 8.77 9.26 8.1  6.13 3.1  9.13 7.26 4.74]\n",
      "выборочное среднее x:9.0, y: 7.50090909090909 \n",
      "выборочная дисперсия x:10.0, y: 3.752390082644628 \n",
      "Кореляция Пирсона: 0.9999999999999998 \n",
      "Прямая линейной регрессии: y = 3.0 + 0.5 * x\n",
      "\n",
      "сет номер 3\n",
      "[10.  8. 13.  9. 11. 14.  6.  4. 12.  7.  5.]\n",
      "[ 7.46  6.77 12.74  7.11  7.81  8.84  6.08  5.39  8.15  6.42  5.73]\n",
      "выборочное среднее x:9.0, y: 7.5 \n",
      "выборочная дисперсия x:10.0, y: 3.747836363636364 \n",
      "Кореляция Пирсона: 1.0 \n",
      "Прямая линейной регрессии: y = 3.0 + 0.5 * x\n",
      "\n",
      "сет номер 4\n",
      "[ 8.  8.  8.  8.  8.  8.  8. 19.  8.  8.  8.]\n",
      "[ 6.58  5.76  7.71  8.84  8.47  7.04  5.25 12.5   5.56  7.91  6.89]\n",
      "выборочное среднее x:9.0, y: 7.500909090909091 \n",
      "выборочная дисперсия x:10.0, y: 3.7484082644628103 \n",
      "Кореляция Пирсона: 1.0 \n",
      "Прямая линейной регрессии: y = 3.0 + 0.5 * x\n",
      "\n"
     ]
    },
    {
     "output_type": "display_data",
     "data": {
      "text/plain": "<Figure size 720x504 with 1 Axes>",
      "image/svg+xml": "<?xml version=\"1.0\" encoding=\"utf-8\" standalone=\"no\"?>\r\n<!DOCTYPE svg PUBLIC \"-//W3C//DTD SVG 1.1//EN\"\r\n  \"http://www.w3.org/Graphics/SVG/1.1/DTD/svg11.dtd\">\r\n<!-- Created with matplotlib (https://matplotlib.org/) -->\r\n<svg height=\"411.598125pt\" version=\"1.1\" viewBox=\"0 0 592.125 411.598125\" width=\"592.125pt\" xmlns=\"http://www.w3.org/2000/svg\" xmlns:xlink=\"http://www.w3.org/1999/xlink\">\r\n <metadata>\r\n  <rdf:RDF xmlns:cc=\"http://creativecommons.org/ns#\" xmlns:dc=\"http://purl.org/dc/elements/1.1/\" xmlns:rdf=\"http://www.w3.org/1999/02/22-rdf-syntax-ns#\">\r\n   <cc:Work>\r\n    <dc:type rdf:resource=\"http://purl.org/dc/dcmitype/StillImage\"/>\r\n    <dc:date>2020-10-25T14:47:12.854676</dc:date>\r\n    <dc:format>image/svg+xml</dc:format>\r\n    <dc:creator>\r\n     <cc:Agent>\r\n      <dc:title>Matplotlib v3.3.0, https://matplotlib.org/</dc:title>\r\n     </cc:Agent>\r\n    </dc:creator>\r\n   </cc:Work>\r\n  </rdf:RDF>\r\n </metadata>\r\n <defs>\r\n  <style type=\"text/css\">*{stroke-linecap:butt;stroke-linejoin:round;}</style>\r\n </defs>\r\n <g id=\"figure_1\">\r\n  <g id=\"patch_1\">\r\n   <path d=\"M 0 411.598125 \r\nL 592.125 411.598125 \r\nL 592.125 0 \r\nL 0 0 \r\nz\r\n\" style=\"fill:none;\"/>\r\n  </g>\r\n  <g id=\"axes_1\">\r\n   <g id=\"patch_2\">\r\n    <path d=\"M 26.925 387.72 \r\nL 584.925 387.72 \r\nL 584.925 7.2 \r\nL 26.925 7.2 \r\nz\r\n\" style=\"fill:#ffffff;\"/>\r\n   </g>\r\n   <g id=\"PathCollection_1\">\r\n    <defs>\r\n     <path d=\"M 3 0 \r\nL -3 -3 \r\nL -3 3 \r\nz\r\n\" id=\"mffea7d1c17\" style=\"stroke:#1f77b4;\"/>\r\n    </defs>\r\n    <g clip-path=\"url(#p72033dd226)\">\r\n     <use style=\"fill:#1f77b4;stroke:#1f77b4;\" x=\"255.197727\" xlink:href=\"#mffea7d1c17\" y=\"193.153851\"/>\r\n     <use style=\"fill:#1f77b4;stroke:#1f77b4;\" x=\"187.561364\" xlink:href=\"#mffea7d1c17\" y=\"232.268035\"/>\r\n     <use style=\"fill:#1f77b4;stroke:#1f77b4;\" x=\"356.652273\" xlink:href=\"#mffea7d1c17\" y=\"209.660754\"/>\r\n     <use style=\"fill:#1f77b4;stroke:#1f77b4;\" x=\"221.379545\" xlink:href=\"#mffea7d1c17\" y=\"165.522731\"/>\r\n     <use style=\"fill:#1f77b4;stroke:#1f77b4;\" x=\"289.015909\" xlink:href=\"#mffea7d1c17\" y=\"182.747326\"/>\r\n     <use style=\"fill:#1f77b4;stroke:#1f77b4;\" x=\"390.470455\" xlink:href=\"#mffea7d1c17\" y=\"124.255473\"/>\r\n     <use style=\"fill:#1f77b4;stroke:#1f77b4;\" x=\"119.925\" xlink:href=\"#mffea7d1c17\" y=\"221.861509\"/>\r\n     <use style=\"fill:#1f77b4;stroke:#1f77b4;\" x=\"52.288636\" xlink:href=\"#mffea7d1c17\" y=\"328.797533\"/>\r\n     <use style=\"fill:#1f77b4;stroke:#1f77b4;\" x=\"322.834091\" xlink:href=\"#mffea7d1c17\" y=\"92.67705\"/>\r\n     <use style=\"fill:#1f77b4;stroke:#1f77b4;\" x=\"153.743182\" xlink:href=\"#mffea7d1c17\" y=\"308.702173\"/>\r\n     <use style=\"fill:#1f77b4;stroke:#1f77b4;\" x=\"86.106818\" xlink:href=\"#mffea7d1c17\" y=\"277.841441\"/>\r\n    </g>\r\n   </g>\r\n   <g id=\"PathCollection_2\">\r\n    <defs>\r\n     <path d=\"M -3 -0 \r\nL 3 3 \r\nL 3 -3 \r\nz\r\n\" id=\"mb30a06e673\" style=\"stroke:#ff7f0e;\"/>\r\n    </defs>\r\n    <g clip-path=\"url(#p72033dd226)\">\r\n     <use style=\"fill:#ff7f0e;stroke:#ff7f0e;\" x=\"255.197727\" xlink:href=\"#mb30a06e673\" y=\"153.680822\"/>\r\n     <use style=\"fill:#ff7f0e;stroke:#ff7f0e;\" x=\"187.561364\" xlink:href=\"#mb30a06e673\" y=\"189.565394\"/>\r\n     <use style=\"fill:#ff7f0e;stroke:#ff7f0e;\" x=\"356.652273\" xlink:href=\"#mb30a06e673\" y=\"168.034651\"/>\r\n     <use style=\"fill:#ff7f0e;stroke:#ff7f0e;\" x=\"221.379545\" xlink:href=\"#mb30a06e673\" y=\"166.958114\"/>\r\n     <use style=\"fill:#ff7f0e;stroke:#ff7f0e;\" x=\"289.015909\" xlink:href=\"#mb30a06e673\" y=\"149.374674\"/>\r\n     <use style=\"fill:#ff7f0e;stroke:#ff7f0e;\" x=\"390.470455\" xlink:href=\"#mb30a06e673\" y=\"191.000777\"/>\r\n     <use style=\"fill:#ff7f0e;stroke:#ff7f0e;\" x=\"119.925\" xlink:href=\"#mb30a06e673\" y=\"261.693384\"/>\r\n     <use style=\"fill:#ff7f0e;stroke:#ff7f0e;\" x=\"52.288636\" xlink:href=\"#mb30a06e673\" y=\"370.423636\"/>\r\n     <use style=\"fill:#ff7f0e;stroke:#ff7f0e;\" x=\"322.834091\" xlink:href=\"#mb30a06e673\" y=\"154.039668\"/>\r\n     <use style=\"fill:#ff7f0e;stroke:#ff7f0e;\" x=\"153.743182\" xlink:href=\"#mb30a06e673\" y=\"221.143817\"/>\r\n     <use style=\"fill:#ff7f0e;stroke:#ff7f0e;\" x=\"86.106818\" xlink:href=\"#mb30a06e673\" y=\"311.572939\"/>\r\n    </g>\r\n   </g>\r\n   <g id=\"PathCollection_3\">\r\n    <defs>\r\n     <path d=\"M 0 -3 \r\nL -3 3 \r\nL 3 3 \r\nz\r\n\" id=\"md227a0867a\" style=\"stroke:#2ca02c;\"/>\r\n    </defs>\r\n    <g clip-path=\"url(#p72033dd226)\">\r\n     <use style=\"fill:#2ca02c;stroke:#2ca02c;\" x=\"255.197727\" xlink:href=\"#md227a0867a\" y=\"213.966903\"/>\r\n     <use style=\"fill:#2ca02c;stroke:#2ca02c;\" x=\"187.561364\" xlink:href=\"#md227a0867a\" y=\"238.727258\"/>\r\n     <use style=\"fill:#2ca02c;stroke:#2ca02c;\" x=\"356.652273\" xlink:href=\"#md227a0867a\" y=\"24.496364\"/>\r\n     <use style=\"fill:#2ca02c;stroke:#2ca02c;\" x=\"221.379545\" xlink:href=\"#md227a0867a\" y=\"226.526503\"/>\r\n     <use style=\"fill:#2ca02c;stroke:#2ca02c;\" x=\"289.015909\" xlink:href=\"#md227a0867a\" y=\"201.407303\"/>\r\n     <use style=\"fill:#2ca02c;stroke:#2ca02c;\" x=\"390.470455\" xlink:href=\"#md227a0867a\" y=\"164.446194\"/>\r\n     <use style=\"fill:#2ca02c;stroke:#2ca02c;\" x=\"119.925\" xlink:href=\"#md227a0867a\" y=\"263.487612\"/>\r\n     <use style=\"fill:#2ca02c;stroke:#2ca02c;\" x=\"52.288636\" xlink:href=\"#md227a0867a\" y=\"288.247967\"/>\r\n     <use style=\"fill:#2ca02c;stroke:#2ca02c;\" x=\"322.834091\" xlink:href=\"#md227a0867a\" y=\"189.206548\"/>\r\n     <use style=\"fill:#2ca02c;stroke:#2ca02c;\" x=\"153.743182\" xlink:href=\"#md227a0867a\" y=\"251.286858\"/>\r\n     <use style=\"fill:#2ca02c;stroke:#2ca02c;\" x=\"86.106818\" xlink:href=\"#md227a0867a\" y=\"276.047212\"/>\r\n    </g>\r\n   </g>\r\n   <g id=\"PathCollection_4\">\r\n    <defs>\r\n     <path d=\"M -0 3 \r\nL 3 -3 \r\nL -3 -3 \r\nz\r\n\" id=\"mefae03fcfe\" style=\"stroke:#d62728;\"/>\r\n    </defs>\r\n    <g clip-path=\"url(#p72033dd226)\">\r\n     <use style=\"fill:#d62728;stroke:#d62728;\" x=\"187.561364\" xlink:href=\"#mefae03fcfe\" y=\"245.545326\"/>\r\n     <use style=\"fill:#d62728;stroke:#d62728;\" x=\"187.561364\" xlink:href=\"#mefae03fcfe\" y=\"274.970675\"/>\r\n     <use style=\"fill:#d62728;stroke:#d62728;\" x=\"187.561364\" xlink:href=\"#mefae03fcfe\" y=\"204.99576\"/>\r\n     <use style=\"fill:#d62728;stroke:#d62728;\" x=\"187.561364\" xlink:href=\"#mefae03fcfe\" y=\"164.446194\"/>\r\n     <use style=\"fill:#d62728;stroke:#d62728;\" x=\"187.561364\" xlink:href=\"#mefae03fcfe\" y=\"177.723485\"/>\r\n     <use style=\"fill:#d62728;stroke:#d62728;\" x=\"187.561364\" xlink:href=\"#mefae03fcfe\" y=\"229.038423\"/>\r\n     <use style=\"fill:#d62728;stroke:#d62728;\" x=\"187.561364\" xlink:href=\"#mefae03fcfe\" y=\"293.271807\"/>\r\n     <use style=\"fill:#d62728;stroke:#d62728;\" x=\"559.561364\" xlink:href=\"#mefae03fcfe\" y=\"33.108661\"/>\r\n     <use style=\"fill:#d62728;stroke:#d62728;\" x=\"187.561364\" xlink:href=\"#mefae03fcfe\" y=\"282.14759\"/>\r\n     <use style=\"fill:#d62728;stroke:#d62728;\" x=\"187.561364\" xlink:href=\"#mefae03fcfe\" y=\"197.818846\"/>\r\n     <use style=\"fill:#d62728;stroke:#d62728;\" x=\"187.561364\" xlink:href=\"#mefae03fcfe\" y=\"234.421109\"/>\r\n    </g>\r\n   </g>\r\n   <g id=\"matplotlib.axis_1\">\r\n    <g id=\"xtick_1\">\r\n     <g id=\"line2d_1\">\r\n      <defs>\r\n       <path d=\"M 0 0 \r\nL 0 3.5 \r\n\" id=\"m91e5f5e597\" style=\"stroke:#000000;stroke-width:0.8;\"/>\r\n      </defs>\r\n      <g>\r\n       <use style=\"stroke:#000000;stroke-width:0.8;\" x=\"52.288636\" xlink:href=\"#m91e5f5e597\" y=\"387.72\"/>\r\n      </g>\r\n     </g>\r\n     <g id=\"text_1\">\r\n      <!-- 4 -->\r\n      <g transform=\"translate(49.107386 402.318437)scale(0.1 -0.1)\">\r\n       <defs>\r\n        <path d=\"M 37.796875 64.3125 \r\nL 12.890625 25.390625 \r\nL 37.796875 25.390625 \r\nz\r\nM 35.203125 72.90625 \r\nL 47.609375 72.90625 \r\nL 47.609375 25.390625 \r\nL 58.015625 25.390625 \r\nL 58.015625 17.1875 \r\nL 47.609375 17.1875 \r\nL 47.609375 0 \r\nL 37.796875 0 \r\nL 37.796875 17.1875 \r\nL 4.890625 17.1875 \r\nL 4.890625 26.703125 \r\nz\r\n\" id=\"DejaVuSans-52\"/>\r\n       </defs>\r\n       <use xlink:href=\"#DejaVuSans-52\"/>\r\n      </g>\r\n     </g>\r\n    </g>\r\n    <g id=\"xtick_2\">\r\n     <g id=\"line2d_2\">\r\n      <g>\r\n       <use style=\"stroke:#000000;stroke-width:0.8;\" x=\"119.925\" xlink:href=\"#m91e5f5e597\" y=\"387.72\"/>\r\n      </g>\r\n     </g>\r\n     <g id=\"text_2\">\r\n      <!-- 6 -->\r\n      <g transform=\"translate(116.74375 402.318437)scale(0.1 -0.1)\">\r\n       <defs>\r\n        <path d=\"M 33.015625 40.375 \r\nQ 26.375 40.375 22.484375 35.828125 \r\nQ 18.609375 31.296875 18.609375 23.390625 \r\nQ 18.609375 15.53125 22.484375 10.953125 \r\nQ 26.375 6.390625 33.015625 6.390625 \r\nQ 39.65625 6.390625 43.53125 10.953125 \r\nQ 47.40625 15.53125 47.40625 23.390625 \r\nQ 47.40625 31.296875 43.53125 35.828125 \r\nQ 39.65625 40.375 33.015625 40.375 \r\nz\r\nM 52.59375 71.296875 \r\nL 52.59375 62.3125 \r\nQ 48.875 64.0625 45.09375 64.984375 \r\nQ 41.3125 65.921875 37.59375 65.921875 \r\nQ 27.828125 65.921875 22.671875 59.328125 \r\nQ 17.53125 52.734375 16.796875 39.40625 \r\nQ 19.671875 43.65625 24.015625 45.921875 \r\nQ 28.375 48.1875 33.59375 48.1875 \r\nQ 44.578125 48.1875 50.953125 41.515625 \r\nQ 57.328125 34.859375 57.328125 23.390625 \r\nQ 57.328125 12.15625 50.6875 5.359375 \r\nQ 44.046875 -1.421875 33.015625 -1.421875 \r\nQ 20.359375 -1.421875 13.671875 8.265625 \r\nQ 6.984375 17.96875 6.984375 36.375 \r\nQ 6.984375 53.65625 15.1875 63.9375 \r\nQ 23.390625 74.21875 37.203125 74.21875 \r\nQ 40.921875 74.21875 44.703125 73.484375 \r\nQ 48.484375 72.75 52.59375 71.296875 \r\nz\r\n\" id=\"DejaVuSans-54\"/>\r\n       </defs>\r\n       <use xlink:href=\"#DejaVuSans-54\"/>\r\n      </g>\r\n     </g>\r\n    </g>\r\n    <g id=\"xtick_3\">\r\n     <g id=\"line2d_3\">\r\n      <g>\r\n       <use style=\"stroke:#000000;stroke-width:0.8;\" x=\"187.561364\" xlink:href=\"#m91e5f5e597\" y=\"387.72\"/>\r\n      </g>\r\n     </g>\r\n     <g id=\"text_3\">\r\n      <!-- 8 -->\r\n      <g transform=\"translate(184.380114 402.318437)scale(0.1 -0.1)\">\r\n       <defs>\r\n        <path d=\"M 31.78125 34.625 \r\nQ 24.75 34.625 20.71875 30.859375 \r\nQ 16.703125 27.09375 16.703125 20.515625 \r\nQ 16.703125 13.921875 20.71875 10.15625 \r\nQ 24.75 6.390625 31.78125 6.390625 \r\nQ 38.8125 6.390625 42.859375 10.171875 \r\nQ 46.921875 13.96875 46.921875 20.515625 \r\nQ 46.921875 27.09375 42.890625 30.859375 \r\nQ 38.875 34.625 31.78125 34.625 \r\nz\r\nM 21.921875 38.8125 \r\nQ 15.578125 40.375 12.03125 44.71875 \r\nQ 8.5 49.078125 8.5 55.328125 \r\nQ 8.5 64.0625 14.71875 69.140625 \r\nQ 20.953125 74.21875 31.78125 74.21875 \r\nQ 42.671875 74.21875 48.875 69.140625 \r\nQ 55.078125 64.0625 55.078125 55.328125 \r\nQ 55.078125 49.078125 51.53125 44.71875 \r\nQ 48 40.375 41.703125 38.8125 \r\nQ 48.828125 37.15625 52.796875 32.3125 \r\nQ 56.78125 27.484375 56.78125 20.515625 \r\nQ 56.78125 9.90625 50.3125 4.234375 \r\nQ 43.84375 -1.421875 31.78125 -1.421875 \r\nQ 19.734375 -1.421875 13.25 4.234375 \r\nQ 6.78125 9.90625 6.78125 20.515625 \r\nQ 6.78125 27.484375 10.78125 32.3125 \r\nQ 14.796875 37.15625 21.921875 38.8125 \r\nz\r\nM 18.3125 54.390625 \r\nQ 18.3125 48.734375 21.84375 45.5625 \r\nQ 25.390625 42.390625 31.78125 42.390625 \r\nQ 38.140625 42.390625 41.71875 45.5625 \r\nQ 45.3125 48.734375 45.3125 54.390625 \r\nQ 45.3125 60.0625 41.71875 63.234375 \r\nQ 38.140625 66.40625 31.78125 66.40625 \r\nQ 25.390625 66.40625 21.84375 63.234375 \r\nQ 18.3125 60.0625 18.3125 54.390625 \r\nz\r\n\" id=\"DejaVuSans-56\"/>\r\n       </defs>\r\n       <use xlink:href=\"#DejaVuSans-56\"/>\r\n      </g>\r\n     </g>\r\n    </g>\r\n    <g id=\"xtick_4\">\r\n     <g id=\"line2d_4\">\r\n      <g>\r\n       <use style=\"stroke:#000000;stroke-width:0.8;\" x=\"255.197727\" xlink:href=\"#m91e5f5e597\" y=\"387.72\"/>\r\n      </g>\r\n     </g>\r\n     <g id=\"text_4\">\r\n      <!-- 10 -->\r\n      <g transform=\"translate(248.835227 402.318437)scale(0.1 -0.1)\">\r\n       <defs>\r\n        <path d=\"M 12.40625 8.296875 \r\nL 28.515625 8.296875 \r\nL 28.515625 63.921875 \r\nL 10.984375 60.40625 \r\nL 10.984375 69.390625 \r\nL 28.421875 72.90625 \r\nL 38.28125 72.90625 \r\nL 38.28125 8.296875 \r\nL 54.390625 8.296875 \r\nL 54.390625 0 \r\nL 12.40625 0 \r\nz\r\n\" id=\"DejaVuSans-49\"/>\r\n        <path d=\"M 31.78125 66.40625 \r\nQ 24.171875 66.40625 20.328125 58.90625 \r\nQ 16.5 51.421875 16.5 36.375 \r\nQ 16.5 21.390625 20.328125 13.890625 \r\nQ 24.171875 6.390625 31.78125 6.390625 \r\nQ 39.453125 6.390625 43.28125 13.890625 \r\nQ 47.125 21.390625 47.125 36.375 \r\nQ 47.125 51.421875 43.28125 58.90625 \r\nQ 39.453125 66.40625 31.78125 66.40625 \r\nz\r\nM 31.78125 74.21875 \r\nQ 44.046875 74.21875 50.515625 64.515625 \r\nQ 56.984375 54.828125 56.984375 36.375 \r\nQ 56.984375 17.96875 50.515625 8.265625 \r\nQ 44.046875 -1.421875 31.78125 -1.421875 \r\nQ 19.53125 -1.421875 13.0625 8.265625 \r\nQ 6.59375 17.96875 6.59375 36.375 \r\nQ 6.59375 54.828125 13.0625 64.515625 \r\nQ 19.53125 74.21875 31.78125 74.21875 \r\nz\r\n\" id=\"DejaVuSans-48\"/>\r\n       </defs>\r\n       <use xlink:href=\"#DejaVuSans-49\"/>\r\n       <use x=\"63.623047\" xlink:href=\"#DejaVuSans-48\"/>\r\n      </g>\r\n     </g>\r\n    </g>\r\n    <g id=\"xtick_5\">\r\n     <g id=\"line2d_5\">\r\n      <g>\r\n       <use style=\"stroke:#000000;stroke-width:0.8;\" x=\"322.834091\" xlink:href=\"#m91e5f5e597\" y=\"387.72\"/>\r\n      </g>\r\n     </g>\r\n     <g id=\"text_5\">\r\n      <!-- 12 -->\r\n      <g transform=\"translate(316.471591 402.318437)scale(0.1 -0.1)\">\r\n       <defs>\r\n        <path d=\"M 19.1875 8.296875 \r\nL 53.609375 8.296875 \r\nL 53.609375 0 \r\nL 7.328125 0 \r\nL 7.328125 8.296875 \r\nQ 12.9375 14.109375 22.625 23.890625 \r\nQ 32.328125 33.6875 34.8125 36.53125 \r\nQ 39.546875 41.84375 41.421875 45.53125 \r\nQ 43.3125 49.21875 43.3125 52.78125 \r\nQ 43.3125 58.59375 39.234375 62.25 \r\nQ 35.15625 65.921875 28.609375 65.921875 \r\nQ 23.96875 65.921875 18.8125 64.3125 \r\nQ 13.671875 62.703125 7.8125 59.421875 \r\nL 7.8125 69.390625 \r\nQ 13.765625 71.78125 18.9375 73 \r\nQ 24.125 74.21875 28.421875 74.21875 \r\nQ 39.75 74.21875 46.484375 68.546875 \r\nQ 53.21875 62.890625 53.21875 53.421875 \r\nQ 53.21875 48.921875 51.53125 44.890625 \r\nQ 49.859375 40.875 45.40625 35.40625 \r\nQ 44.1875 33.984375 37.640625 27.21875 \r\nQ 31.109375 20.453125 19.1875 8.296875 \r\nz\r\n\" id=\"DejaVuSans-50\"/>\r\n       </defs>\r\n       <use xlink:href=\"#DejaVuSans-49\"/>\r\n       <use x=\"63.623047\" xlink:href=\"#DejaVuSans-50\"/>\r\n      </g>\r\n     </g>\r\n    </g>\r\n    <g id=\"xtick_6\">\r\n     <g id=\"line2d_6\">\r\n      <g>\r\n       <use style=\"stroke:#000000;stroke-width:0.8;\" x=\"390.470455\" xlink:href=\"#m91e5f5e597\" y=\"387.72\"/>\r\n      </g>\r\n     </g>\r\n     <g id=\"text_6\">\r\n      <!-- 14 -->\r\n      <g transform=\"translate(384.107955 402.318437)scale(0.1 -0.1)\">\r\n       <use xlink:href=\"#DejaVuSans-49\"/>\r\n       <use x=\"63.623047\" xlink:href=\"#DejaVuSans-52\"/>\r\n      </g>\r\n     </g>\r\n    </g>\r\n    <g id=\"xtick_7\">\r\n     <g id=\"line2d_7\">\r\n      <g>\r\n       <use style=\"stroke:#000000;stroke-width:0.8;\" x=\"458.106818\" xlink:href=\"#m91e5f5e597\" y=\"387.72\"/>\r\n      </g>\r\n     </g>\r\n     <g id=\"text_7\">\r\n      <!-- 16 -->\r\n      <g transform=\"translate(451.744318 402.318437)scale(0.1 -0.1)\">\r\n       <use xlink:href=\"#DejaVuSans-49\"/>\r\n       <use x=\"63.623047\" xlink:href=\"#DejaVuSans-54\"/>\r\n      </g>\r\n     </g>\r\n    </g>\r\n    <g id=\"xtick_8\">\r\n     <g id=\"line2d_8\">\r\n      <g>\r\n       <use style=\"stroke:#000000;stroke-width:0.8;\" x=\"525.743182\" xlink:href=\"#m91e5f5e597\" y=\"387.72\"/>\r\n      </g>\r\n     </g>\r\n     <g id=\"text_8\">\r\n      <!-- 18 -->\r\n      <g transform=\"translate(519.380682 402.318437)scale(0.1 -0.1)\">\r\n       <use xlink:href=\"#DejaVuSans-49\"/>\r\n       <use x=\"63.623047\" xlink:href=\"#DejaVuSans-56\"/>\r\n      </g>\r\n     </g>\r\n    </g>\r\n   </g>\r\n   <g id=\"matplotlib.axis_2\">\r\n    <g id=\"ytick_1\">\r\n     <g id=\"line2d_9\">\r\n      <defs>\r\n       <path d=\"M 0 0 \r\nL -3.5 0 \r\n\" id=\"mb0b59f4de1\" style=\"stroke:#000000;stroke-width:0.8;\"/>\r\n      </defs>\r\n      <g>\r\n       <use style=\"stroke:#000000;stroke-width:0.8;\" x=\"26.925\" xlink:href=\"#mb0b59f4de1\" y=\"338.127522\"/>\r\n      </g>\r\n     </g>\r\n     <g id=\"text_9\">\r\n      <!-- 4 -->\r\n      <g transform=\"translate(13.5625 341.92674)scale(0.1 -0.1)\">\r\n       <use xlink:href=\"#DejaVuSans-52\"/>\r\n      </g>\r\n     </g>\r\n    </g>\r\n    <g id=\"ytick_2\">\r\n     <g id=\"line2d_10\">\r\n      <g>\r\n       <use style=\"stroke:#000000;stroke-width:0.8;\" x=\"26.925\" xlink:href=\"#mb0b59f4de1\" y=\"266.358378\"/>\r\n      </g>\r\n     </g>\r\n     <g id=\"text_10\">\r\n      <!-- 6 -->\r\n      <g transform=\"translate(13.5625 270.157597)scale(0.1 -0.1)\">\r\n       <use xlink:href=\"#DejaVuSans-54\"/>\r\n      </g>\r\n     </g>\r\n    </g>\r\n    <g id=\"ytick_3\">\r\n     <g id=\"line2d_11\">\r\n      <g>\r\n       <use style=\"stroke:#000000;stroke-width:0.8;\" x=\"26.925\" xlink:href=\"#mb0b59f4de1\" y=\"194.589234\"/>\r\n      </g>\r\n     </g>\r\n     <g id=\"text_11\">\r\n      <!-- 8 -->\r\n      <g transform=\"translate(13.5625 198.388453)scale(0.1 -0.1)\">\r\n       <use xlink:href=\"#DejaVuSans-56\"/>\r\n      </g>\r\n     </g>\r\n    </g>\r\n    <g id=\"ytick_4\">\r\n     <g id=\"line2d_12\">\r\n      <g>\r\n       <use style=\"stroke:#000000;stroke-width:0.8;\" x=\"26.925\" xlink:href=\"#mb0b59f4de1\" y=\"122.820091\"/>\r\n      </g>\r\n     </g>\r\n     <g id=\"text_12\">\r\n      <!-- 10 -->\r\n      <g transform=\"translate(7.2 126.619309)scale(0.1 -0.1)\">\r\n       <use xlink:href=\"#DejaVuSans-49\"/>\r\n       <use x=\"63.623047\" xlink:href=\"#DejaVuSans-48\"/>\r\n      </g>\r\n     </g>\r\n    </g>\r\n    <g id=\"ytick_5\">\r\n     <g id=\"line2d_13\">\r\n      <g>\r\n       <use style=\"stroke:#000000;stroke-width:0.8;\" x=\"26.925\" xlink:href=\"#mb0b59f4de1\" y=\"51.050947\"/>\r\n      </g>\r\n     </g>\r\n     <g id=\"text_13\">\r\n      <!-- 12 -->\r\n      <g transform=\"translate(7.2 54.850166)scale(0.1 -0.1)\">\r\n       <use xlink:href=\"#DejaVuSans-49\"/>\r\n       <use x=\"63.623047\" xlink:href=\"#DejaVuSans-50\"/>\r\n      </g>\r\n     </g>\r\n    </g>\r\n   </g>\r\n   <g id=\"patch_3\">\r\n    <path d=\"M 26.925 387.72 \r\nL 26.925 7.2 \r\n\" style=\"fill:none;stroke:#000000;stroke-linecap:square;stroke-linejoin:miter;stroke-width:0.8;\"/>\r\n   </g>\r\n   <g id=\"patch_4\">\r\n    <path d=\"M 584.925 387.72 \r\nL 584.925 7.2 \r\n\" style=\"fill:none;stroke:#000000;stroke-linecap:square;stroke-linejoin:miter;stroke-width:0.8;\"/>\r\n   </g>\r\n   <g id=\"patch_5\">\r\n    <path d=\"M 26.925 387.72 \r\nL 584.925 387.72 \r\n\" style=\"fill:none;stroke:#000000;stroke-linecap:square;stroke-linejoin:miter;stroke-width:0.8;\"/>\r\n   </g>\r\n   <g id=\"patch_6\">\r\n    <path d=\"M 26.925 7.2 \r\nL 584.925 7.2 \r\n\" style=\"fill:none;stroke:#000000;stroke-linecap:square;stroke-linejoin:miter;stroke-width:0.8;\"/>\r\n   </g>\r\n  </g>\r\n </g>\r\n <defs>\r\n  <clipPath id=\"p72033dd226\">\r\n   <rect height=\"380.52\" width=\"558\" x=\"26.925\" y=\"7.2\"/>\r\n  </clipPath>\r\n </defs>\r\n</svg>\r\n",
      "image/png": "[encoded data removed]"
     },
     "metadata": {
      "needs_background": "light"
     }
    }
   ],
   "source": [
    "from matplotlib import pyplot as plt\n",
    "plt.figure(figsize=(10,7))\n",
    "samples = {\n",
    "    \"x1\": [10.0, 8.0, 13.0, 9.0, 11.0, 14.0, 6.0, 4.0, 12.0, 7.0, 5.0],\n",
    "    \"y1\": [8.04, 6.95, 7.58, 8.81, 8.33, 9.96, 7.24, 4.26, 10.84, 4.82, 5.68],\n",
    "    \"x2\": [10.0, 8.0, 13.0, 9.0, 11.0, 14.0, 6.0, 4.0, 12.0, 7.0, 5.0],\n",
    "    \"y2\": [9.14, 8.14, 8.74, 8.77, 9.26, 8.1, 6.13, 3.1, 9.13, 7.26, 4.74],\n",
    "    \"x3\": [10.0, 8.0, 13.0, 9.0, 11.0, 14.0, 6.0, 4.0, 12.0, 7.0, 5.0],\n",
    "    \"y3\": [7.46, 6.77, 12.74, 7.11, 7.81, 8.84, 6.08, 5.39, 8.15, 6.42, 5.73],\n",
    "    \"x4\": [8.0, 8.0, 8.0, 8.0, 8.0, 8.0, 8.0, 19.0, 8.0, 8.0, 8.0],\n",
    "    \"y4\": [6.58, 5.76, 7.71, 8.84, 8.47, 7.04, 5.25, 12.5, 5.56, 7.91, 6.89]\n",
    "}\n",
    "\n",
    "for i in range(1,5):\n",
    "    print(f'сет номер {i}')\n",
    "    x = np.array(samples[f'x{i}'])\n",
    "    y = np.array(samples[f'y{i}'])\n",
    "    print(x)\n",
    "    print(y)\n",
    "    print(f\"выборочное среднее x:{x.mean()}, y: {y.mean()} \")\n",
    "    print(f\"выборочная дисперсия x:{x.var()}, y: {y.var()} \")\n",
    "    print(f\"Кореляция Пирсона: {np.corrcoef(x, y)[1][1]} \")\n",
    "    b1 = np.cov(x, y, ddof=1)[0, 1] / np.var(x, ddof=1)\n",
    "    b0 = y.mean() - b1 * x.mean()\n",
    "    print(f'Прямая линейной регрессии: y = {round(b0,1)} + {round(b1,1)} * x')\n",
    "    print()\n",
    "    markers = ('>', '<', '^', 'v')\n",
    "    plt.scatter(x, y, marker=markers[i-1],)"
   ]
  }
 ]
}