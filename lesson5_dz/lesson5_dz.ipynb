{
 "metadata": {
  "language_info": {
   "codemirror_mode": {
    "name": "ipython",
    "version": 3
   },
   "file_extension": ".py",
   "mimetype": "text/x-python",
   "name": "python",
   "nbconvert_exporter": "python",
   "pygments_lexer": "ipython3",
   "version": "3.8.5-final"
  },
  "orig_nbformat": 2,
  "kernelspec": {
   "name": "Python 3.8.5 64-bit",
   "display_name": "Python 3.8.5 64-bit",
   "metadata": {
    "interpreter": {
     "hash": "f7c604d00f38437f4df57123c10451e0676060e1a3eca5c56f25a4495d595057"
    }
   }
  }
 },
 "nbformat": 4,
 "nbformat_minor": 2,
 "cells": [
  {
   "source": [
    "## Задача 1\n",
    "\n",
    "Известно, что генеральная совокупность распределена нормально с известным средним квадратическим отклонением 16. Найти доверительный интервал для оценки математического ожидания mu с надёжностью 0.95, если выборочное среднее равно 80, а объём равен 256."
   ],
   "cell_type": "markdown",
   "metadata": {}
  },
  {
   "source": [
    "$\\sigma = 16$<br>\n",
    "p = 0.95<br>\n",
    "$\\overline{X} = 80$<br>\n",
    "n = 256 <br>\n",
    "$\\alpha = 1-p = 0.05$<br>\n",
    "Так как у нас нормальное распределение, то доверительный интервал расчитываем по формуле: $$P \\left( \\overline{X} + t_{\\alpha / 2} \\cdot \\dfrac{\\sigma}{\\sqrt{n}} \\leq \\mu \\leq \\overline{X} + t_{1 - \\alpha / 2} \\cdot \\dfrac{\\sigma}{\\sqrt{n}} \\right) = p$$\n",
    "где $t_{\\beta}$ — квантиль порядка $\\beta$ для стандартного нормального распределения.\n",
    "\n",
    "\n"
   ],
   "cell_type": "markdown",
   "metadata": {}
  },
  {
   "cell_type": "code",
   "execution_count": 45,
   "metadata": {},
   "outputs": [
    {
     "output_type": "stream",
     "name": "stdout",
     "text": [
      "Довериетльный интеравал : (78.04003601545995, 81.95996398454005)\n"
     ]
    }
   ],
   "source": [
    "from scipy import stats\n",
    "import numpy as np\n",
    "def confidence_interval(alpha,x,sigma,n):   \n",
    "    t1 = stats.norm.ppf(alpha/2)\n",
    "    t2 = stats.norm.ppf(1 - alpha/2)\n",
    "    return (x + t1*sigma / np.sqrt(n), x + t2*sigma / np.sqrt(n))\n",
    "p = 0.95\n",
    "sigma = 16\n",
    "alpha = 1 - p\n",
    "x = 80\n",
    "n = 256\n",
    "print(\"Довериетльный интеравал :\", confidence_interval(alpha, x, sigma, n))"
   ]
  },
  {
   "source": [
    "***"
   ],
   "cell_type": "markdown",
   "metadata": {}
  },
  {
   "source": [
    "## Задача 2\n",
    "\n",
    "Продавец утверждает, что средний вес пачки печенья составляет 200 г. Из партии извлечена выборка из 10 пачек. Вес каждой пачки составляет:\n",
    "\n",
    "202, 203, 199, 197, 195, 201, 200, 204, 194, 190\n",
    "\n",
    "Известно, что их веса распределены нормально.<br>\n",
    " 1. Верно ли утверждение продавца, если учитывать, что уровень значимости равен 1%?<br>\n",
    " 2. Найдите P-значение для данного теста."
   ],
   "cell_type": "markdown",
   "metadata": {}
  },
  {
   "source": [
    "нулевая гипотеза  M = 200г<br>\n",
    "n = 10<br>\n",
    "sample = (202, 203, 199, 197, 195, 201, 200, 204, 194, 190)<br>\n",
    "номарльное распределение.<br>\n",
    "alpha = 0.01\n",
    "Нам надо использовать распределение Стьюдента и t-статистику так как у нас нету среднеквадратичного отклонения.$$t = \\dfrac{\\overline{X} - \\mu}{\\sigma_X / \\sqrt{n}},$$\n"
   ],
   "cell_type": "markdown",
   "metadata": {}
  },
  {
   "cell_type": "code",
   "execution_count": 46,
   "metadata": {},
   "outputs": [],
   "source": [
    "def t_statistic(x,M,n,sigma_x):\n",
    "    return (x - M)/(sigma_x / np.math.sqrt(n))"
   ]
  },
  {
   "cell_type": "code",
   "execution_count": 47,
   "metadata": {},
   "outputs": [],
   "source": [
    "M = 200\n",
    "n = 10\n",
    "alpha = 0.01\n",
    "sample = np.array((202, 203, 199, 197, 195, 201, 200, 204, 194, 190))\n",
    "x = sample.mean()\n",
    "sigma_x = sample.std(ddof=1)"
   ]
  },
  {
   "source": [
    "Находим t-статистику."
   ],
   "cell_type": "markdown",
   "metadata": {}
  },
  {
   "cell_type": "code",
   "execution_count": 48,
   "metadata": {},
   "outputs": [
    {
     "output_type": "execute_result",
     "data": {
      "text/plain": [
       "-1.0651074037450896"
      ]
     },
     "metadata": {},
     "execution_count": 48
    }
   ],
   "source": [
    "S_t = t_statistic(x,M,n,sigma_x)\n",
    "S_t"
   ]
  },
  {
   "source": [
    "считаем критическую область."
   ],
   "cell_type": "markdown",
   "metadata": {}
  },
  {
   "cell_type": "code",
   "execution_count": 49,
   "metadata": {},
   "outputs": [
    {
     "output_type": "stream",
     "name": "stdout",
     "text": [
      "(-inf;-3.2498355440153697),(3.2498355440153697;+inf)\n"
     ]
    }
   ],
   "source": [
    "t1 = stats.t.ppf(alpha / 2, df=n - 1)\n",
    "t2 = stats.t.ppf(1 - alpha / 2, df=n - 1)\n",
    "print(f\"(-inf;{t1}),({t2};+inf)\")"
   ]
  },
  {
   "source": [
    "наша статистика не попала в критическую область, значит наша нулевая гипотеза верна при нашем уровне значимости 0.001"
   ],
   "cell_type": "markdown",
   "metadata": {}
  },
  {
   "source": [
    "Посчитаем P-значение, для двусторнней области:$$P = 2 \\cdot \\min (P_l, P_r)$$"
   ],
   "cell_type": "markdown",
   "metadata": {}
  },
  {
   "cell_type": "code",
   "execution_count": 50,
   "metadata": {},
   "outputs": [
    {
     "output_type": "execute_result",
     "data": {
      "text/plain": [
       "0.3145666035247285"
      ]
     },
     "metadata": {},
     "execution_count": 50
    }
   ],
   "source": [
    "p_left = stats.t.cdf(S_t, df=n - 1)\n",
    "p_right = 1 - stats.t.cdf(S_t, df=n - 1)\n",
    "pvalue = 2 * min(p_left, p_right)\n",
    "pvalue\n"
   ]
  },
  {
   "source": [
    "## Задача 3\n",
    "\n",
    "Дана выборка диаметров подшипников из примера 1 с занятия 5:\n",
    "\n",
    "sample = \\[0.6603, 0.9466, 0.5968, 1.3792, 1.5481, 0.7515, 1.0681, 1.1134,\n",
    "1.2088, 1.701 , 1.0282, 1.3579, 1.0191, 1.1784, 1.1168, 1.1372,\n",
    "0.7273, 1.3958, 0.8665, 1.5112, 1.161 , 1.0232, 1.0865, 1.02 \\]\n",
    "\n",
    "Предполагая, что диаметры подшипников распределены нормально, проверьте гипотезу о том, что дисперсия случайной величины равна 0.0625 при уровне значимости alpha = 0.05. Что для этого нужно знать:<br>\n",
    "1. Альтернативная гипотеза двухсторонняя.<br>\n",
    "2. Статистика для теста: H = (n - 1) * sample_variance / variance, где n - число элементов в выборке, sample_variance - несмещённая оценка дисперсии, variance - утверждаемая нулевой гипотезой дисперсия.<br>\n",
    "3. Эта статистика в предположении верности нулевой гипотезы имеет распределение хи-квадрат с параметром df = n - 1. Её квантили можно найти с помощью функции scipy.stats.chi2.ppf."
   ],
   "cell_type": "markdown",
   "metadata": {}
  },
  {
   "source": [
    "нормальное распределение.<br>\n",
    "нулевая гепотиза  - $\\sigma^2 = 0.0625$ при $\\alpha = 0.05$<br>\n",
    "альтернативная гипотеза $\\sigma^2$ больше либо меньше 0.0625<br>\n"
   ],
   "cell_type": "markdown",
   "metadata": {}
  },
  {
   "cell_type": "code",
   "execution_count": 51,
   "metadata": {},
   "outputs": [],
   "source": [
    "sample = np.array([0.6603, 0.9466, 0.5968, 1.3792, 1.5481, 0.7515, 1.0681, 1.1134,\n",
    "1.2088, 1.701 , 1.0282, 1.3579, 1.0191, 1.1784, 1.1168, 1.1372,\n",
    "0.7273, 1.3958, 0.8665, 1.5112, 1.161 , 1.0232, 1.0865, 1.02])"
   ]
  },
  {
   "cell_type": "code",
   "execution_count": 52,
   "metadata": {},
   "outputs": [
    {
     "output_type": "stream",
     "name": "stdout",
     "text": [
      "4.453463071962462\n"
     ]
    }
   ],
   "source": [
    "def statistic(n, D, D_x):\n",
    "    return (n - 1) * D_x / D\n",
    "\n",
    "n = len(sample)\n",
    "D = 0.0625\n",
    "alpha = 0.05\n",
    "M = 1\n",
    "D_x = (sample.std(ddof=1))**2\n",
    "print(sigma_x)\n"
   ]
  },
  {
   "source": [
    "Считаем нашу статистику"
   ],
   "cell_type": "markdown",
   "metadata": {}
  },
  {
   "cell_type": "code",
   "execution_count": 53,
   "metadata": {},
   "outputs": [
    {
     "output_type": "execute_result",
     "data": {
      "text/plain": [
       "6.401853165946039"
      ]
     },
     "metadata": {},
     "execution_count": 53
    }
   ],
   "source": [
    "H = statistic(n, D, D_x)\n",
    "H"
   ]
  },
  {
   "source": [
    "уровень значисмости $\\alpha = 0.05$\n",
    "функция распределения нашей статистики имеет функцию распределения $\\chi^2$<br>\n",
    "так же альтернативная гипотеза двухсторонняя"
   ],
   "cell_type": "markdown",
   "metadata": {}
  },
  {
   "cell_type": "code",
   "execution_count": 54,
   "metadata": {},
   "outputs": [
    {
     "output_type": "execute_result",
     "data": {
      "text/plain": [
       "(11.688551922452438, 38.0756272503558)"
      ]
     },
     "metadata": {},
     "execution_count": 54
    }
   ],
   "source": [
    "t1 = stats.chi2.ppf(alpha / 2, df=n - 1)\n",
    "t2 = stats.chi2.ppf(1 - alpha / 2, df=n - 1)\n",
    "t1, t2"
   ]
  },
  {
   "source": [
    "то что вне этого отрезка, наша критическая область.<br>\n",
    "Наша статистика H лежит вне критической области, значит мы принимаем нулевую гипотезу.\n"
   ],
   "cell_type": "markdown",
   "metadata": {}
  }
 ]
}
