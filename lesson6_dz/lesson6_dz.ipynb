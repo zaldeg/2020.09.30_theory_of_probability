{
 "metadata": {
  "language_info": {
   "codemirror_mode": {
    "name": "ipython",
    "version": 3
   },
   "file_extension": ".py",
   "mimetype": "text/x-python",
   "name": "python",
   "nbconvert_exporter": "python",
   "pygments_lexer": "ipython3",
   "version": "3.8.5-final"
  },
  "orig_nbformat": 2,
  "kernelspec": {
   "name": "Python 3.8.5 64-bit",
   "display_name": "Python 3.8.5 64-bit",
   "metadata": {
    "interpreter": {
     "hash": "f7c604d00f38437f4df57123c10451e0676060e1a3eca5c56f25a4495d595057"
    }
   }
  }
 },
 "nbformat": 4,
 "nbformat_minor": 2,
 "cells": [
  {
   "source": [
    "## Задача 1\n",
    "\n",
    "Даны значения величины заработной платы заемщиков банка (salary) и значения их поведенческого кредитного скоринга (scoring):\n",
    "\n",
    "salary = \\[35, 45, 190, 200, 40, 70, 54, 150, 120, 110\\]<br>\n",
    "scoring = \\[401, 574, 874, 919, 459, 739, 653, 902, 746, 832\\]<br>\n",
    "\n",
    "Используя только встроенные питоновские функции и структуры данных (т.е. без библиотек numpy, pandas и др.) найдите:<br>\n",
    "1. ковариацию этих двух величин,<br>\n",
    "2. коэффициент корреляции Пирсона.<br>\n",
    "\n",
    "Можно затем посчитать те же значения с использованием библиотек, чтобы проверить себя."
   ],
   "cell_type": "markdown",
   "metadata": {}
  },
  {
   "source": [
    "Формула ковариации случайных величин $X$ и $Y$:\n",
    "$$\\operatorname{cov}(X, Y) = M\\left( (X - M(X)) (Y - M(Y)) \\right).$$$$\\sigma_{XY} = \\dfrac{1}{n - 1} \\displaystyle\\sum_{i = 1}^n (x_i - \\overline{X}) \\cdot (y_i - \\overline{Y})$$\n"
   ],
   "cell_type": "markdown",
   "metadata": {}
  },
  {
   "cell_type": "code",
   "execution_count": 1,
   "metadata": {},
   "outputs": [
    {
     "output_type": "stream",
     "name": "stdout",
     "text": [
      "Ковариация наших признаков : 10175.377777777778\n"
     ]
    }
   ],
   "source": [
    "salary = [35, 45, 190, 200, 40, 70, 54, 150, 120, 110]\n",
    "scoring = [401, 574, 874, 919, 459, 739, 653, 902, 746, 832]\n",
    "n = len(salary)\n",
    "\n",
    "def covariation(x,y):\n",
    "    avarage_x = sum(x) / len(x)\n",
    "    avarage_y = sum(y) / len(y)\n",
    "    return sum([(x[i] - avarage_x) * (y[i] - avarage_y) for i in range(len(x)) ]) / (n - 1)\n",
    "print(\"Ковариация наших признаков :\", covariation(salary,scoring))\n"
   ]
  },
  {
   "source": [
    "Кореляция Пирсона вычисляется по формуле:$$r_{XY} = \\dfrac{\\sigma_{XY}}{\\sigma_X \\cdot \\sigma_Y}$$\n",
    "среднеквадратичное отклонение вычисляем по формуле:$$\\sigma_X=\\sqrt{\\frac{1}{1-n} \\cdot \\sum_{i = 1}^n (x_i - \\overline{X})^2}$$"
   ],
   "cell_type": "markdown",
   "metadata": {}
  },
  {
   "cell_type": "code",
   "execution_count": 2,
   "metadata": {},
   "outputs": [
    {
     "output_type": "stream",
     "name": "stdout",
     "text": [
      "Кореляция Пирсона : 0.8874900920739162\n"
     ]
    }
   ],
   "source": [
    "import math\n",
    "\n",
    "def std_x(array):\n",
    "    n = len(array)\n",
    "    avarage = sum(array) /n\n",
    "    s = sum([(x - avarage)**2 for x in array])\n",
    "    return math.sqrt(s / ( n - 1))\n",
    "\n",
    "def cor_pirson(x,y):\n",
    "    return covariation(x, y) / (std_x(x) * std_x(y))\n",
    "\n",
    "\n",
    "print(\"Кореляция Пирсона :\", cor_pirson(salary, scoring))\n"
   ]
  },
  {
   "cell_type": "code",
   "execution_count": 3,
   "metadata": {},
   "outputs": [
    {
     "output_type": "stream",
     "name": "stdout",
     "text": [
      "[[ 3882.93333333 10175.37777778]\n [10175.37777778 33854.32222222]]\n62.31318747531162\n[[1.         0.88749009]\n [0.88749009 1.        ]]\n"
     ]
    }
   ],
   "source": [
    "import numpy as np\n",
    "print(np.cov(salary, scoring, ddof=1))\n",
    "print(np.std(salary,ddof=1))\n",
    "print(np.corrcoef(salary, scoring))"
   ]
  },
  {
   "source": [
    "## Задача 2\n",
    "\n",
    "Проведите тест на значимость коэффициента корреляции Пирсона, найденного в предыдущей задаче. Что для этого нужно знать:\n",
    "* Нулевая гипотеза: реальный коэффициент корреляции равен 0. Альтернативная гипотеза двухсторонняя.\n",
    "* Статистика: t = r * sqrt(n - 2) / sqrt(1 - r ** 2), где r - коэффициент корреляции Пирсона, посчитанный по выборке.\n",
    "* В предположении верности нулевой гипотезы эта статистика имеет распределение Стьюдента с параметром df = n - 2."
   ],
   "cell_type": "markdown",
   "metadata": {}
  },
  {
   "cell_type": "code",
   "execution_count": 4,
   "metadata": {},
   "outputs": [],
   "source": [
    "from scipy import stats\n",
    "r = 0.8874900920739162\n",
    "alpha = 0.05"
   ]
  },
  {
   "cell_type": "code",
   "execution_count": 5,
   "metadata": {},
   "outputs": [
    {
     "output_type": "execute_result",
     "data": {
      "text/plain": [
       "5.447168150485575"
      ]
     },
     "metadata": {},
     "execution_count": 5
    }
   ],
   "source": [
    "def statistics(r, n):\n",
    "    return r * np.math.sqrt(n - 2) / np.math.sqrt(1 - r**2)\n",
    "t = statistics(r,n)\n",
    "t"
   ]
  },
  {
   "source": [
    "считаем критическую область."
   ],
   "cell_type": "markdown",
   "metadata": {}
  },
  {
   "cell_type": "code",
   "execution_count": 6,
   "metadata": {},
   "outputs": [
    {
     "output_type": "stream",
     "name": "stdout",
     "text": [
      "(-inf;-2.306004135033371),(2.3060041350333704;+inf)\n"
     ]
    }
   ],
   "source": [
    "t1 = stats.t.ppf(alpha / 2, df=n-2)\n",
    "t2 = stats.t.ppf(1 - alpha/2, df=n-2)\n",
    "print(f\"(-inf;{t1}),({t2};+inf)\")"
   ]
  },
  {
   "source": [
    "наша статистика лежит в критической области, так что похоже наша гипотеза про r=0 неверна для нашего уровня значимости."
   ],
   "cell_type": "markdown",
   "metadata": {}
  },
  {
   "source": [
    "## Задача 3\n",
    "\n",
    "Измерены значения IQ выборки студентов, обучающихся в местных технических вузах:\n",
    "\n",
    "131, 125, 115, 122, 131, 115, 107, 99, 125, 111\n",
    "\n",
    "Известно, что в генеральной совокупности IQ распределен нормально. Найдите доверительный интервал для математического ожидания с надежностью 0.95."
   ],
   "cell_type": "markdown",
   "metadata": {}
  },
  {
   "source": [
    "формула для доверительного интервала\n",
    "$$P \\left( \\overline{X} + t_{\\alpha / 2, \\: n - 1} \\cdot \\dfrac{\\sigma_X}{\\sqrt{n}} \\leq \\mu \\leq \\overline{X} + t_{1 - \\alpha / 2, \\: n - 1} \\cdot \\dfrac{\\sigma_X}{\\sqrt{n}} \\right) = p$$"
   ],
   "cell_type": "markdown",
   "metadata": {}
  },
  {
   "cell_type": "code",
   "execution_count": 7,
   "metadata": {},
   "outputs": [],
   "source": [
    "def confidence_interval(alpha,mean,sigma_x,n):   \n",
    "    t1 = stats.t.ppf(alpha/2, df=n-1)\n",
    "    t2 = stats.t.ppf(1 - alpha/2, df=n-1)\n",
    "    return (mean + t1*sigma_x / np.sqrt(n), mean + t2*sigma_x / np.sqrt(n))\n"
   ]
  },
  {
   "cell_type": "code",
   "execution_count": 8,
   "metadata": {},
   "outputs": [
    {
     "output_type": "stream",
     "name": "stdout",
     "text": [
      "Получившийся доверительный интервал (110.55608365158724, 125.64391634841274)\n"
     ]
    }
   ],
   "source": [
    "sample = np.array([131, 125, 115, 122, 131, 115, 107, 99, 125, 111])\n",
    "p = 0.95\n",
    "alpha = 1 - p\n",
    "sigma_x = sample.std(ddof=1)\n",
    "mean = sample.mean()\n",
    "print(\"Получившийся доверительный интервал\", confidence_interval(alpha, mean, sigma_x, len(sample)))\n"
   ]
  }
 ]
}