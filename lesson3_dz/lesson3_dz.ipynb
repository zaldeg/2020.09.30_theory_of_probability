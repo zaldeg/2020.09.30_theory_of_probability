{
 "metadata": {
  "language_info": {
   "codemirror_mode": {
    "name": "ipython",
    "version": 3
   },
   "file_extension": ".py",
   "mimetype": "text/x-python",
   "name": "python",
   "nbconvert_exporter": "python",
   "pygments_lexer": "ipython3",
   "version": "3.8.5-final"
  },
  "orig_nbformat": 2,
  "kernelspec": {
   "name": "Python 3.8.5 64-bit",
   "display_name": "Python 3.8.5 64-bit",
   "metadata": {
    "interpreter": {
     "hash": "f7c604d00f38437f4df57123c10451e0676060e1a3eca5c56f25a4495d595057"
    }
   }
  }
 },
 "nbformat": 4,
 "nbformat_minor": 2,
 "cells": [
  {
   "cell_type": "code",
   "execution_count": 30,
   "metadata": {},
   "outputs": [],
   "source": [
    "import math\n",
    "import numpy as np\n",
    "import pandas as pd"
   ]
  },
  {
   "source": [
    "Задача 1\n",
    "\n",
    "Даны значения зарплат из выборки выпускников:\n",
    "\n",
    "100, 80, 75, 77, 89, 33, 45, 25, 65, 17, 30, 230, 24, 57, 55, 70, 75, 65, 84, 90, 150\n",
    "\n",
    "Используя только встроенные питоновские функции и структуры данных (т.е. без библиотек numpy, pandas и др.) посчитать среднее арифметическое, выборочную дисперсию, среднее квадратичное отклонение для данной выборки.\n",
    "\n",
    "Можно затем посчитать те же значения с использованием библиотек, чтобы проверить себя."
   ],
   "cell_type": "markdown",
   "metadata": {}
  },
  {
   "cell_type": "code",
   "execution_count": 31,
   "metadata": {
    "tags": []
   },
   "outputs": [
    {
     "output_type": "stream",
     "name": "stdout",
     "text": "Средняя зарплата =   73.14285714285714\n"
    }
   ],
   "source": [
    "salaries = [100, 80, 75, 77, 89, 33, 45, 25, 65, 17, 30, 230, 24, 57, 55, 70, 75, 65, 84, 90, 150]\n",
    "avarage = sum(salaries) / len(salaries)\n",
    "print(\"Средняя зарплата =  \", avarage)"
   ]
  },
  {
   "cell_type": "code",
   "execution_count": 35,
   "metadata": {
    "tags": []
   },
   "outputs": [
    {
     "output_type": "stream",
     "name": "stdout",
     "text": "Выборочная дисперсия несмещенная =  2241.8285714285716\nСреднеквадратичное отклонение  =  47.34795213553139\n"
    }
   ],
   "source": [
    "sample_variance = 1/(len(salaries) - 1) * sum([(i - avarage) ** 2 for i in salaries])\n",
    "print(\"Выборочная дисперсия несмещенная = \", sample_variance)\n",
    "print(\"Среднеквадратичное отклонение  = \", math.sqrt(sample_variance))"
   ]
  },
  {
   "source": [
    "salaries = np.array(salaries)\n",
    "print(salaries.mean())\n",
    "print(salaries.var(ddof=1))\n",
    "print(salaries.std(ddof=1))"
   ],
   "cell_type": "code",
   "metadata": {
    "tags": []
   },
   "execution_count": 33,
   "outputs": [
    {
     "output_type": "stream",
     "name": "stdout",
     "text": "73.14285714285714\n2241.828571428571\n47.347952135531386\n"
    }
   ]
  },
  {
   "source": [
    "Задача 2\n",
    "\n",
    "Для выборки из задачи 1 найти (также без использования библиотек):\n",
    "1. медиану, первый и третий квартили, интерквартильное расстояние,\n",
    "2. выборсы в выборке (используя для этого метод как при построении \"усов\" из boxplot).\n",
    "\n",
    "Возможные неоднозначности в вычислении квантилей можно разрешать любым способом."
   ],
   "cell_type": "markdown",
   "metadata": {}
  },
  {
   "cell_type": "code",
   "execution_count": 34,
   "metadata": {
    "tags": []
   },
   "outputs": [
    {
     "output_type": "stream",
     "name": "stdout",
     "text": "Наши квартили:\n[45, 70, 84]\nМедиана =  70\nПервый квартиль =  45\nТретий квартиль =  84\nИнтерквартильное расстояние: 39\nНаши выбросы:  [230, 150]\n"
    }
   ],
   "source": [
    "def quantile(data, alpha):\n",
    "    sorted_data = sorted(data)\n",
    "    index = len(data) * alpha\n",
    "    if isinstance(index,int):\n",
    "        return (sorted_data[index - 1] + sorted_data[index]) / 2\n",
    "    else:\n",
    "        return sorted_data[int(index)]\n",
    "print(\"Наши квартили:\")\n",
    "quartiles = [quantile(salaries, i) for i in (0.25, 0.5, 0.75)]\n",
    "print(quartiles)\n",
    "print(\"Медиана = \", quartiles[1])\n",
    "print(\"Первый квартиль = \", quartiles[0])\n",
    "print(\"Третий квартиль = \", quartiles[2])\n",
    "iqr = quartiles[2] - quartiles[0]\n",
    "print(f\"Интерквартильное расстояние: {iqr}\")\n",
    "boxplot_range = (quartiles[0] - 1.5 * iqr, quartiles[2] + 1.5 * iqr)\n",
    "blowout = [i for i in salaries if i < boxplot_range[0] or i > boxplot_range[1]]\n",
    "print(\"Наши выбросы: \", blowout)"
   ]
  },
  {
   "source": [
    "Задача 3\n",
    "\n",
    "В университет на факультет A поступило 100 человек, на факультет B - 90 человек и на факультет C - 45 человек. Вероятность того, что студент с факультета A сдаст первую сессию, равна 0.6. Для студента с факультета B эта вероятность равна 0.7, а для студента с факультета C - 0.8. Случайным образом выбирается студент, сдавший первую сессию. Какое событие наиболее вероятно:\n",
    "1. студент учится на факультете A,\n",
    "2. студент учится на факультете B,\n",
    "3. студент учится на факультете C?\n",
    "\n",
    "Замечание: да, эта задача не на тему статистики, но тема важная, и её стоит иногда освежать в памяти."
   ],
   "cell_type": "markdown",
   "metadata": {}
  },
  {
   "source": [
    "Мы можем посчитать количество студентов которые сдали сессию на каждом факультете.<br>\n",
    "на факультете А это будет 100 человек умноженые на вероятность сдачи 0.6  равно 60 челвоек. Кафедра В: $90 \\cdot 0.7 = 63$ человека. Кфаедра С: $45 \\cdot  0.8 = 36$ человек.\n",
    "Сумарно сдаст 60 + 63 + 36 = 159 человек.<br>\n",
    "Вероятность что сдал человек с первого факультета: P(A) = 60/159 = 0.37735<br>\n",
    "Второй факультет: P(B) = 63/159 = 0.396226<br>\n",
    "Третье факультет: P(C) = 36/159 = 0.226415<br>\n",
    "полчается что скорейвсего сдал человек с факультета B."
   ],
   "cell_type": "markdown",
   "metadata": {}
  }
 ]
}