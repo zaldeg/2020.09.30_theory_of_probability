{
 "metadata": {
  "language_info": {
   "codemirror_mode": {
    "name": "ipython",
    "version": 3
   },
   "file_extension": ".py",
   "mimetype": "text/x-python",
   "name": "python",
   "nbconvert_exporter": "python",
   "pygments_lexer": "ipython3",
   "version": "3.8.5-final"
  },
  "orig_nbformat": 2,
  "kernelspec": {
   "name": "Python 3.8.5 64-bit",
   "display_name": "Python 3.8.5 64-bit",
   "metadata": {
    "interpreter": {
     "hash": "f7c604d00f38437f4df57123c10451e0676060e1a3eca5c56f25a4495d595057"
    }
   }
  }
 },
 "nbformat": 4,
 "nbformat_minor": 2,
 "cells": [
  {
   "cell_type": "code",
   "execution_count": 108,
   "metadata": {},
   "outputs": [],
   "source": [
    "import numpy as np"
   ]
  },
  {
   "source": [
    "Задача 1\n",
    "\n",
    "Контрольная работа состоит из пяти вопросов. На каждый вопрос приведено четыре варианта ответа, один из которых правильный. Составьте закон распределения числа правильных ответов при простом угадывании. Найдите M(X), D(X)."
   ],
   "cell_type": "markdown",
   "metadata": {}
  },
  {
   "cell_type": "code",
   "execution_count": 109,
   "metadata": {},
   "outputs": [],
   "source": [
    "def combinations(n: int, k: int) -> int:\n",
    "    \"\"\"Число сочетаний.\n",
    "    \"\"\"\n",
    "    \n",
    "    return np.math.factorial(n) // (np.math.factorial(k) * np.math.factorial(n - k))"
   ]
  },
  {
   "source": [
    "Вероятность ответить на вопрос правильно 1/4, количество разных событий будет 6, от 0 правильных ответов до 5. Формула Бернулли:$$P(X=k)=C_n^k \\cdot p^k \\cdot (1-p)^{n-k}$$ p = 1/4, n = 5, k = \\[0,...5]"
   ],
   "cell_type": "markdown",
   "metadata": {}
  },
  {
   "cell_type": "code",
   "execution_count": 110,
   "metadata": {
    "tags": []
   },
   "outputs": [
    {
     "output_type": "stream",
     "name": "stdout",
     "text": "Вероятсностьи получить значения от 0 до 5 равны соответственно: [0.23730469 0.39550781 0.26367188 0.08789062 0.01464844 0.00097656]\nМатематическое ожидание: 1.25\nДисперсия: 0.9375\n"
    }
   ],
   "source": [
    "p = 0.25\n",
    "n = 5\n",
    "probability = np.array([combinations(n,k) * p**k * (1 - p)**(n-k) for k in range(n+1)])\n",
    "k = np.arange(n+1)\n",
    "expected_value = (probability * k).sum()\n",
    "dispersion = (probability * (k - expected_value)**2).sum()\n",
    "print(\"Вероятсностьи получить значения от 0 до 5 равны соответственно:\", probability)\n",
    "print(\"Математическое ожидание:\", expected_value)\n",
    "print(\"Дисперсия:\", dispersion)\n"
   ]
  },
  {
   "source": [
    "Либо простым способом: $$M(X) = np$$ $$D(X)=np(1-p)$$<br>\n",
    "$M(X)=5*0.25=1.25$<br>\n",
    "$D(X)=1.25*(1-0.25)=0.9375$"
   ],
   "cell_type": "markdown",
   "metadata": {}
  },
  {
   "source": [],
   "cell_type": "markdown",
   "metadata": {}
  },
  {
   "source": [
    "Задача 2\n",
    "\n",
    "Пользователь получает в среднем 10 писем со спамом на свой почтовый ящик за сутки. Найти число N, такое, что с вероятностью 0.95 пользователь получит не более N писем со спамом за текущий день.\n"
   ],
   "cell_type": "markdown",
   "metadata": {}
  },
  {
   "source": [
    "Распределение пуассона: $$P_m = \\frac{\\lambda^k}{k!}e^{-\\lambda}$$<br>\n",
    "Будем складывать вероятности получить письма от 0 до некого N и прекратим когда суммарная вероятность превысит 0.95."
   ],
   "cell_type": "markdown",
   "metadata": {}
  },
  {
   "cell_type": "code",
   "execution_count": 111,
   "metadata": {
    "tags": []
   },
   "outputs": [
    {
     "output_type": "stream",
     "name": "stdout",
     "text": "с вероятностью 0.9512595966960216 пользователь получит не более 15 писем со спамом за текущий день\n"
    }
   ],
   "source": [
    "def puasson(lamb,k):\n",
    "    \"\"\"возвращает вероятность по формуле Пуассона, для лямбды и к.\n",
    "    \"\"\"\n",
    "    return (lamb ** k) * (np.math.e ** (-lamb)) / np.math.factorial(k)\n",
    "\n",
    "counter = -1\n",
    "s = 0\n",
    "lamb = 10\n",
    "while s < 0.95:\n",
    "    counter += 1\n",
    "    s += puasson(lamb, counter)    \n",
    "print(f\"с вероятностью {s} пользователь получит не более {counter} писем со спамом за текущий день\")\n",
    "\n"
   ]
  },
  {
   "source": [
    "Задача 3\n",
    "\n",
    "Производятся выстрелы по мишени. Вероятность попадания в мишень при одном выстреле равна 0.01. Сколько выстрелов нужно сделать чтобы быть уверенным с вероятностью 0.9, что хотя бы 6 раз будет совершено попадание?\n",
    "\n",
    "Подсказка: 1) \"Вероятность попасть k раз при n выстрелах\" - на какое распределение это похоже? 2) А если нам нужна вероятность P(X >= k), а не P(X = k)? 3) Здесь предстоит немножко покодить."
   ],
   "cell_type": "markdown",
   "metadata": {}
  },
  {
   "source": [
    "тут мы увеличиваем количество выстрелов и считаем сумму вероятностей попвдания больше 6 выстрелов. когда она становится больше 0.9 мы прекращаем. это крайне долгий процесс, во всяком случае в таком исполнении."
   ],
   "cell_type": "markdown",
   "metadata": {}
  },
  {
   "cell_type": "code",
   "execution_count": 112,
   "metadata": {
    "tags": []
   },
   "outputs": [
    {
     "output_type": "stream",
     "name": "stdout",
     "text": "0.9003627121531275 926\n"
    }
   ],
   "source": [
    "p = 0.01\n",
    "n = 0\n",
    "k = 6\n",
    "s = 0\n",
    "while s < 0.9:\n",
    "    n += 1 \n",
    "    probability = np.array([combinations(n,k) * p**k * (1-p)**(n-k) for k in range(n+1)])\n",
    "    s = sum(probability[6:])\n",
    "print(s, n)"
   ]
  },
  {
   "source": [
    "Тут более быстрое исполнение, мы считаем что сумму вероятностей попасть от 0 до 5 выстрелов за n испытаний. она равна единица минус вероятность того что мы считаем в первом варианте. Ну а так как тут всего считать сумму 6 формул Бернулли. то получается гораздо быстрее при том же количестве циклов. скорее всего должно быть ~ в n раз быстрее чем в первом варианте(но это не точно)."
   ],
   "cell_type": "markdown",
   "metadata": {}
  },
  {
   "cell_type": "code",
   "execution_count": 114,
   "metadata": {
    "tags": []
   },
   "outputs": [
    {
     "output_type": "stream",
     "name": "stdout",
     "text": "0.09963728784686457 926\n"
    }
   ],
   "source": [
    "p = 0.01\n",
    "n = 5\n",
    "k = 6\n",
    "s = 1 # тут суммарная вероятность уменьшается с 1 так как промазать от 1 до 6 ракрайне вероятно.\n",
    "while s > 0.1: #0.1 это 1 - 0.9\n",
    "    n += 1 \n",
    "    probability = np.array([combinations(n,k) * p**k * (1-p)**(n-k) for k in range(6)])\n",
    "    s = sum(probability)\n",
    "print(s, n)"
   ]
  },
  {
   "source": [
    "Плучается надо 926 выстрелов. "
   ],
   "cell_type": "markdown",
   "metadata": {}
  }
 ]
}