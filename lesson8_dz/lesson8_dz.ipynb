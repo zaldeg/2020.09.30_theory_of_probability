{
 "metadata": {
  "language_info": {
   "codemirror_mode": {
    "name": "ipython",
    "version": 3
   },
   "file_extension": ".py",
   "mimetype": "text/x-python",
   "name": "python",
   "nbconvert_exporter": "python",
   "pygments_lexer": "ipython3",
   "version": "3.8.5-final"
  },
  "orig_nbformat": 2,
  "kernelspec": {
   "name": "Python 3.8.5 64-bit",
   "display_name": "Python 3.8.5 64-bit",
   "metadata": {
    "interpreter": {
     "hash": "f7c604d00f38437f4df57123c10451e0676060e1a3eca5c56f25a4495d595057"
    }
   }
  }
 },
 "nbformat": 4,
 "nbformat_minor": 2,
 "cells": [
  {
   "source": [
    "__Задача 1__\n",
    "\n",
    "Объясняемая переменная `y` зависит от двух категориальных факторов `A` и `B`, причём фактор `A` имеет 3 уровня, а фактор `B` - 4 уровня. Результаты наблюдений приведены в таблице:\n",
    "\n",
    "```\n",
    "y = [[2.68, 3.29, 2.88, 4.45],\n",
    "     [4.12, 4.96, 5.09, 5.22],\n",
    "     [5.52, 4.50, 5.42, 5.29]]\n",
    "```\n",
    "\n",
    "С помощью двухфакторного дисперсионного анализа проверьте влияние каждого из факторов на переменную `y`."
   ],
   "cell_type": "markdown",
   "metadata": {}
  },
  {
   "source": [
    "Нулевые гипотезы:\n",
    "$$H_{0a}: \\:\\: \\overline{Y_{1 \\ast}} = \\dots = \\overline{Y_{m \\ast}}, H_{0b}:   \\:\\: \\overline{Y_{\\ast 1}} = \\dots = \\overline{Y_{\\ast k}}$$\n",
    "Для вычисления значенией статистик нам понадобятся оценки дисперсий. Они вчисляются похоюим образом. Суммы квадратов отклонений:\n",
    "$$SS_a = k \\cdot \\displaystyle \\sum_{i=1}^m (\\overline{Y_{\\ast i}} - \\overline{Y})^2$$\n",
    "$$SS_b = m \\cdot \\displaystyle \\sum_{j=1}^k (\\overline{Y_{\\ast j}} - \\overline{Y})^2$$\n",
    "$$SS_w = \\displaystyle\\sum_{i=1}^m \\displaystyle\\sum_{j=1}^k ( y_{ij} - \\overline{Y_{i \\ast}} - \\overline{Y_{\\ast j}} + \\overline{Y})^2$$\n",
    " "
   ],
   "cell_type": "markdown",
   "metadata": {}
  },
  {
   "cell_type": "code",
   "execution_count": 5,
   "metadata": {},
   "outputs": [
    {
     "output_type": "execute_result",
     "data": {
      "text/plain": [
       "(7.8407166666666654, 1.338166666666669, 1.9298833333333332)"
      ]
     },
     "metadata": {},
     "execution_count": 5
    }
   ],
   "source": [
    "import numpy as np\n",
    "# def ss(m, k, y):\n",
    "#     y_mean = y.mean()\n",
    "#     summ = [y[i,:].mean() -]\n",
    "\n",
    "\n",
    "m = 3\n",
    "k = 4\n",
    "y = np.array([[2.68, 3.29, 2.88, 4.45],\n",
    "     [4.12, 4.96, 5.09, 5.22],\n",
    "     [5.52, 4.50, 5.42, 5.29]])\n",
    "y_mean = y.mean()\n",
    "ss_a = k * sum([(y[i,:].mean() - y_mean) ** 2 for i in range(m)])\n",
    "ss_b = m * sum([(y[:,j].mean() - y_mean) ** 2 for j in range(k)])\n",
    "ss_w = sum([sum([(y[i,j] - y[i,:].mean() -  y[:,j].mean() + y_mean) ** 2 for j in range(k)]) for i in range(m)])\n",
    "ss_a, ss_b, ss_w"
   ]
  },
  {
   "cell_type": "code",
   "execution_count": 6,
   "metadata": {},
   "outputs": [
    {
     "output_type": "execute_result",
     "data": {
      "text/plain": [
       "(3.9203583333333327, 0.4460555555555563, 0.3216472222222222)"
      ]
     },
     "metadata": {},
     "execution_count": 6
    }
   ],
   "source": [
    "sigma_a2 = ss_a / (m-1)\n",
    "sigma_b2 = ss_b / (k-1)\n",
    "sigma_w2 = ss_w / (k-1) / (m-1)\n",
    "sigma_a2, sigma_b2, sigma_w2 "
   ]
  },
  {
   "source": [
    "Используем статистику фишера: $$F_a = \\dfrac{\\sigma_a^2}{\\sigma_w^2}$$"
   ],
   "cell_type": "markdown",
   "metadata": {}
  },
  {
   "cell_type": "code",
   "execution_count": 7,
   "metadata": {},
   "outputs": [
    {
     "output_type": "stream",
     "name": "stdout",
     "text": [
      "Статистика фишера для первой гипотезы будет: 12.188379262995172\nКритическая область правостороняя: (4.25649472909375, +inf)\n"
     ]
    }
   ],
   "source": [
    "from scipy import stats\n",
    "alpha = 0.05\n",
    "f_a = sigma_a2 / sigma_w2\n",
    "k1a = m - 1\n",
    "k2a = m*k - m\n",
    "t_a = stats.f.ppf(1 - alpha, k1a, k2a)\n",
    "print(\"Статистика фишера для первой гипотезы будет:\", f_a)\n",
    "print(f\"Критическая область правостороняя: ({t_a}, +inf)\")"
   ]
  },
  {
   "source": [
    "Статистика лежит в критической области, это значит наша нулевая гипотеза не подтвердилась. А значит уровни фактора `A` влияют на переменную `y`."
   ],
   "cell_type": "markdown",
   "metadata": {}
  },
  {
   "cell_type": "code",
   "execution_count": 8,
   "metadata": {},
   "outputs": [
    {
     "output_type": "stream",
     "name": "stdout",
     "text": [
      "Статистика фишера для второй гипотезы будет: 1.3867850388192748\nКритическая область правостороняя: (4.06618055135116, +inf)\n"
     ]
    }
   ],
   "source": [
    "f_b = sigma_b2 / sigma_w2\n",
    "k1b = k - 1\n",
    "k2b =  m*k - k\n",
    "t_b = stats.f.ppf(1 - alpha, k1b, k2b)\n",
    "print(\"Статистика фишера для второй гипотезы будет:\", f_b)\n",
    "print(f\"Критическая область правостороняя: ({t_b}, +inf)\")"
   ]
  },
  {
   "source": [
    "Статистика лежит вне критической области, значит уровни фактора `B` не влияют на переменную `y`."
   ],
   "cell_type": "markdown",
   "metadata": {}
  }
 ]
}